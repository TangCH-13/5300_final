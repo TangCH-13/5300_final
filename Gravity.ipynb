{
 "cells": [
  {
   "cell_type": "code",
   "execution_count": 4,
   "metadata": {},
   "outputs": [],
   "source": []
  },
  {
   "cell_type": "code",
   "execution_count": 23,
   "metadata": {},
   "outputs": [],
   "source": [
    "%matplotlib inline"
   ]
  },
  {
   "cell_type": "code",
   "execution_count": 24,
   "metadata": {},
   "outputs": [],
   "source": [
    "import numpy as np\n",
    "from scipy.integrate import odeint, solve_ivp\n",
    "from scipy import linalg as LA\n",
    "import matplotlib.pyplot as plt\n",
    "import math"
   ]
  },
  {
   "cell_type": "markdown",
   "metadata": {},
   "source": [
    "# (a)"
   ]
  },
  {
   "cell_type": "code",
   "execution_count": 25,
   "metadata": {},
   "outputs": [],
   "source": [
    "class TwoBody():\n",
    "    \n",
    "    # input the initial value\n",
    "    def __init__(self, m_1 = 1.,m_2 = 1.,G = 1.\n",
    "              ):\n",
    "        self.m_1 = m_1\n",
    "        self.m_2 = m_2\n",
    "        self.G = G\n",
    "        \n",
    "    # the right side of the equation    \n",
    "    def dy_dt(self, t, f):\n",
    "        \n",
    "        x_1,x_2,y_1,y_2,x_1_dot,x_2_dot,y_1_dot,y_2_dot = f\n",
    "        \n",
    "        g = -self.G * self.m_1 * self.m_2 * ((x_1 - x_2)**2 + (y_1 - y_2)**2)**(-3./2.)\n",
    "        \n",
    "        x_1_ddot = g * (x_1 - x_2) / self.m_1\n",
    "        x_2_ddot = g * (x_2 - x_1) / self.m_2\n",
    "        y_1_ddot = g * (y_1 - y_2) / self.m_1\n",
    "        y_2_ddot = g * (y_2 - y_1) / self.m_2\n",
    "    \n",
    "        return x_1_dot,x_2_dot,y_1_dot,y_2_dot,x_1_ddot,x_2_ddot,y_1_ddot,y_2_ddot\n",
    "    \n",
    "    #solve the equation\n",
    "    def solve_ode(self,t_pts,x_1i,x_2i,y_1i,y_2i,x_1_doti,x_2_doti,y_1_doti,y_2_doti,\n",
    "                  abserr=1.0e-9,relerr=1.0e-9):\n",
    "        \n",
    "        y=[x_1i,x_2i,y_1i,y_2i,x_1_doti,x_2_doti,y_1_doti,y_2_doti]\n",
    "        solution = solve_ivp(self.dy_dt, (t_pts[0], t_pts[-1]), \n",
    "                             y, t_eval=t_pts, \n",
    "                             atol=abserr, rtol=relerr)\n",
    "        x_1, x_2, y_1, y_2, x_1_dot, x_2_dot, y_1_dot, y_2_dot =solution.y\n",
    "        \n",
    "        return x_1, x_2, y_1, y_2, x_1_dot, x_2_dot, y_1_dot, y_2_dot\n",
    "\n",
    "        "
   ]
  },
  {
   "cell_type": "code",
   "execution_count": 26,
   "metadata": {},
   "outputs": [],
   "source": [
    "def plot_y_vs_x(x, y, axis_labels=None, label=None, title=None, \n",
    "                color=None, linestyle=None, semilogy=False, loglog=False,\n",
    "                ax=None):\n",
    "    \"\"\"\n",
    "    Generic plotting function: return a figure axis with a plot of y vs. x,\n",
    "    with line color and style, title, axis labels, and line label\n",
    "    \"\"\"\n",
    "    if ax is None:        # if the axis object doesn't exist, make one\n",
    "        ax = plt.gca()\n",
    "\n",
    "    if (semilogy):\n",
    "        line, = ax.semilogy(x, y, label=label, \n",
    "                            color=color, linestyle=linestyle)\n",
    "    elif (loglog):\n",
    "        line, = ax.loglog(x, y, label=label, \n",
    "                          color=color, linestyle=linestyle)\n",
    "    else:\n",
    "        line, = ax.plot(x, y, label=label, \n",
    "                    color=color, linestyle=linestyle)\n",
    "\n",
    "    if label is not None:    # if a label if passed, show the legend\n",
    "        ax.legend()\n",
    "    if title is not None:    # set a title if one if passed\n",
    "        ax.set_title(title)\n",
    "    if axis_labels is not None:  # set x-axis and y-axis labels if passed  \n",
    "        ax.set_xlabel(axis_labels[0])\n",
    "        ax.set_ylabel(axis_labels[1])\n",
    "\n",
    "    return ax, line"
   ]
  },
  {
   "cell_type": "code",
   "execution_count": 27,
   "metadata": {},
   "outputs": [],
   "source": [
    "def start_stop_indices(t_pts, plot_start, plot_stop):\n",
    "    start_index = (np.fabs(t_pts-plot_start)).argmin()  # index in t_pts array \n",
    "    stop_index = (np.fabs(t_pts-plot_stop)).argmin()  # index in t_pts array \n",
    "    return start_index, stop_index"
   ]
  },
  {
   "cell_type": "markdown",
   "metadata": {},
   "source": [
    "# (a)"
   ]
  },
  {
   "cell_type": "code",
   "execution_count": 92,
   "metadata": {},
   "outputs": [],
   "source": [
    "\n",
    "\n",
    "# Common plotting time (generate the full time then use slices)\n",
    "t_start = 0.\n",
    "t_end = 50.\n",
    "delta_t = 0.001\n",
    "\n",
    "t_pts = np.arange(t_start, t_end+delta_t, delta_t)  \n",
    "\n",
    "G = 2\n",
    "m_1 = 1.\n",
    "m_2 = 1.\n",
    "\n",
    "# Instantiate two bodies\n"
   ]
  },
  {
   "cell_type": "code",
   "execution_count": 93,
   "metadata": {},
   "outputs": [],
   "source": [
    "\n",
    "#initial values\n",
    "x_1i = 1.\n",
    "x_2i = -1.\n",
    "y_1i = 0.\n",
    "y_2i = 0. \n",
    "x_1i_dot = 0.\n",
    "x_2i_dot = 0.\n",
    "y_1i_dot = 1.\n",
    "y_2i_dot = -1.\n",
    "\n",
    "tb = TwoBody(m_1 = m_1, m_2 = m_2, G = G)\n",
    "\n",
    "x_1,x_2,y_1,y_2,x_1_dot,x_2_dot,y_1_dot,y_2_dot = tb.solve_ode(t_pts,x_1i,x_2i,y_1i,y_2i,\n",
    "                                                                     x_1i_dot,x_2i_dot,y_1i_dot,y_2i_dot) "
   ]
  },
  {
   "cell_type": "code",
   "execution_count": 94,
   "metadata": {},
   "outputs": [
    {
     "data": {
      "image/png": "[encoded data removed]",
      "text/plain": [
       "<Figure size 1080x360 with 1 Axes>"
      ]
     },
     "metadata": {
      "needs_background": "light"
     },
     "output_type": "display_data"
    }
   ],
   "source": [
    "\n",
    "# Labels for individual plot axes\n",
    "trajectory_labels = (r'$x$', r'$y$')\n",
    "\n",
    "fig = plt.figure(figsize=(15,5))\n",
    "\n",
    "overall_title = 'Orbits in Cartesian coordinate' + \\\n",
    "                '\\n' + \\\n",
    "                'Initial condistions:  ' + \\\n",
    "                rf' $x_1i = {x_1i:.2f},$' + \\\n",
    "                rf' $\\dot x_1i = {x_1i_dot:.2f},$' + \\\n",
    "                rf' $x_2i = {x_2i:.2f},$' + \\\n",
    "                rf' $\\dot x_2i = {x_2i_dot:.2f},$' + \\\n",
    "                rf' $y_1i = {y_1i:.2f},$' + \\\n",
    "                rf' $\\dot y_1i = {y_1i_dot:.2f},$' + \\\n",
    "                rf' $y_2i = {y_2i:.2f},$' + \\\n",
    "                rf' $\\dot y_2i = {y_2i_dot:.2f},$' + \\\n",
    "                '\\n'    \n",
    "fig.suptitle(overall_title, va='baseline')\n",
    "\n",
    "\n",
    "ax_a = fig.add_subplot(1,1,1)                  \n",
    "\n",
    "start, stop = start_stop_indices(t_pts, t_start, t_end)    \n",
    "plot_y_vs_x(x_1[start : stop], y_1[start : stop], \n",
    "            axis_labels=trajectory_labels, \n",
    "            color='blue',\n",
    "            label='m_1', \n",
    "            title='Trajectory Plot',\n",
    "            ax=ax_a)  \n",
    "\n",
    "plot_y_vs_x(x_2[start : stop], y_2[start : stop], \n",
    "            axis_labels=trajectory_labels,\n",
    "            color='red',\n",
    "            label='m_2',\n",
    "            ax=ax_a)  \n",
    "\n",
    "ax_a.set_aspect(1)\n",
    "fig.tight_layout()\n"
   ]
  },
  {
   "cell_type": "markdown",
   "metadata": {},
   "source": [
    "# (b)"
   ]
  },
  {
   "cell_type": "code",
   "execution_count": 95,
   "metadata": {},
   "outputs": [],
   "source": [
    "# Common plotting time (generate the full time then use slices)\n",
    "t_start = 0.\n",
    "t_end = 50.\n",
    "delta_t = 0.001\n",
    "\n",
    "t_pts = np.arange(t_start, t_end+delta_t, delta_t)  \n",
    "\n",
    "G = 10.\n",
    "m_1 = 1.\n",
    "m_2 = 1000.\n"
   ]
  },
  {
   "cell_type": "code",
   "execution_count": 96,
   "metadata": {},
   "outputs": [
    {
     "data": {
      "image/png": "[encoded data removed]",
      "text/plain": [
       "<Figure size 1080x432 with 1 Axes>"
      ]
     },
     "metadata": {
      "needs_background": "light"
     },
     "output_type": "display_data"
    }
   ],
   "source": [
    "x_1i = 100.\n",
    "x_1i_dot = 0\n",
    "x_2i = m_1 * x_1i / (-m_2)\n",
    "x_2i_dot = m_1 * x_1i_dot / (-m_2)\n",
    "y_1i = 0\n",
    "y_1i_dot = 10.\n",
    "y_2i = m_1 * y_1i / (-m_2)\n",
    "y_2i_dot = m_1 * y_1i_dot / (-m_2)\n",
    "\n",
    "tb = TwoBody(m_1 = m_1, m_2 = m_2, G = G)\n",
    "\n",
    "x_1, x_1_dot, x_2, x_2_dot, y_1, y_1_dot, y_2, y_2_dot = tb.solve_ode(t_pts, x_1i, x_1i_dot, x_2i, x_2i_dot, \n",
    "                                                              y_1i, y_1i_dot, y_2i, y_2i_dot)\n",
    "\n",
    "\n",
    "# Labels for individual plot axes\n",
    "trajectory_labels = (r'$x$', r'$y$')\n",
    "\n",
    "# start the plot!\n",
    "fig = plt.figure(figsize=(15,6))\n",
    "\n",
    "overall_title = 'Orbits in Cartesian coordinate' + \\\n",
    "                '\\n' + \\\n",
    "                'Initial condistions:  ' + \\\n",
    "                rf' $x_1i = {x_1i:.2f},$' + \\\n",
    "                rf' $\\dot x_1i = {x_1i_dot:.2f},$' + \\\n",
    "                rf' $x_2i = {x_2i:.2f},$' + \\\n",
    "                rf' $\\dot x_2i = {x_2i_dot:.2f},$' + \\\n",
    "                rf' $y_1i = {y_1i:.2f},$' + \\\n",
    "                rf' $\\dot y_1i = {y_1i_dot:.2f},$' + \\\n",
    "                rf' $y_2i = {y_2i:.2f},$' + \\\n",
    "                rf' $\\dot y_2i = {y_2i_dot:.2f},$' + \\\n",
    "                '\\n'    \n",
    "fig.suptitle(overall_title, va='baseline')\n",
    "\n",
    "# trajectory plot \n",
    "ax_a = fig.add_subplot(1,1,1)                  \n",
    "\n",
    "start, stop = start_stop_indices(t_pts, t_start, t_end)    \n",
    "plot_y_vs_x(x_1[start : stop], y_1[start : stop], \n",
    "            axis_labels=trajectory_labels, \n",
    "            color='blue',\n",
    "            label='m_1', \n",
    "            title='Trajectory Plot',\n",
    "            ax=ax_a)  \n",
    "\n",
    "plot_y_vs_x(x_2[start : stop], y_2[start : stop], \n",
    "            axis_labels=trajectory_labels,\n",
    "            color='red',\n",
    "            label='m_2', \n",
    "            ax=ax_a)  \n",
    "\n",
    "ax_a.set_aspect(1)\n",
    "fig.tight_layout()\n",
    "#fig.savefig('orbit_heavy_mass.pdf', bbox_inches='tight')  "
   ]
  },
  {
   "cell_type": "code",
   "execution_count": null,
   "metadata": {},
   "outputs": [],
   "source": []
  }
 ],
 "metadata": {
  "kernelspec": {
   "display_name": "Python 3",
   "language": "python",
   "name": "python3"
  },
  "language_info": {
   "codemirror_mode": {
    "name": "ipython",
    "version": 3
   },
   "file_extension": ".py",
   "mimetype": "text/x-python",
   "name": "python",
   "nbconvert_exporter": "python",
   "pygments_lexer": "ipython3",
   "version": "3.7.4"
  }
 },
 "nbformat": 4,
 "nbformat_minor": 2
}
